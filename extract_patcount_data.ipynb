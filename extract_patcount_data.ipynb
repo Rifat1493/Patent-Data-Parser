{
 "cells": [
  {
   "cell_type": "code",
   "execution_count": 54,
   "metadata": {},
   "outputs": [],
   "source": [
    "from uspto import *\n",
    "import pandas as pd\n",
    "from tqdm import tqdm"
   ]
  },
  {
   "cell_type": "code",
   "execution_count": 61,
   "metadata": {},
   "outputs": [],
   "source": [
    "base_url = \"https://bulkdata.uspto.gov/data/patent/grant/redbook/fulltext/\"\n",
    "Year = 2001"
   ]
  },
  {
   "cell_type": "code",
   "execution_count": 62,
   "metadata": {},
   "outputs": [],
   "source": [
    "file_list = get_patent_files_by_year(Year)"
   ]
  },
  {
   "cell_type": "code",
   "execution_count": null,
   "metadata": {},
   "outputs": [],
   "source": [
    "for f in file_list:\n",
    "    if 'r1' in f:\n",
    "        file_list.remove(f[:9]+'.zip')"
   ]
  },
  {
   "cell_type": "markdown",
   "metadata": {},
   "source": [
    "#### Run the code from here"
   ]
  },
  {
   "cell_type": "code",
   "execution_count": 63,
   "metadata": {},
   "outputs": [],
   "source": [
    "pub_date_lst =[]\n",
    "filing_date_lst = []\n",
    "kind_lst =[]\n",
    "doc_number_lst =[]\n",
    "country_lst=[]\n",
    "company_name_lst=[]"
   ]
  },
  {
   "cell_type": "code",
   "execution_count": 64,
   "metadata": {},
   "outputs": [
    {
     "name": "stderr",
     "output_type": "stream",
     "text": [
      "100%|██████████| 52/52 [24:15<00:00, 27.98s/it]\n"
     ]
    }
   ],
   "source": [
    "for file in tqdm(file_list):\n",
    "    url = base_url+str(Year)+'/'+file\n",
    "    items = ['ASSG']\n",
    "    response_data = read_and_parse_from_url(url, items)\n",
    "    pub_date = file[6:14]  #6:14\n",
    "    \n",
    "    for data in response_data:\n",
    "        try:\n",
    "            var_filing_date = data['bibliographic_information']['Application Filing Date']\n",
    "            var_kind = data['bibliographic_information']['Series Code']\n",
    "            var_doc_number =data['bibliographic_information']['Patent Number']\n",
    "            var_country ='us'\n",
    "            var_company_name = data['assignees'][0]['inventor name']\n",
    "            filing_date_lst.append(var_filing_date)\n",
    "            kind_lst.append(var_kind)\n",
    "            doc_number_lst.append(var_doc_number)\n",
    "            country_lst.append(var_country)\n",
    "            company_name_lst.append(var_company_name) \n",
    "            pub_date_lst.append(pub_date)\n",
    "\n",
    "        except Exception as e:\n",
    "            e =1\n",
    "\n",
    "data_dict = {\"Filing_date\":filing_date_lst,\"Publish_date\":pub_date_lst,\"Classification\":kind_lst,\n",
    "\"Patent_Number\":doc_number_lst,\"Country\":country_lst, \"Company_Name\": company_name_lst}\n",
    "\n",
    "df = pd.DataFrame(data_dict)\n",
    "df.to_csv(\"data/raw_data/\"+str(Year)+\".csv\", index=False)\n",
    "\n"
   ]
  },
  {
   "cell_type": "markdown",
   "metadata": {},
   "source": [
    "### END of Code"
   ]
  },
  {
   "cell_type": "code",
   "execution_count": 35,
   "metadata": {},
   "outputs": [
    {
     "name": "stderr",
     "output_type": "stream",
     "text": [
      "100%|██████████| 52/52 [18:40<00:00, 21.54s/it]\n"
     ]
    }
   ],
   "source": [
    "for file in tqdm(file_list):\n",
    "    url = base_url+str(Year)+'/'+file\n",
    "    items = ['ASSG']\n",
    "    response_data = read_and_parse_from_url(url, items)\n",
    "    pub_date = file[6:14]\n",
    "    for data in response_data:\n",
    "        try:\n",
    "            var_filing_date = data['bibliographic_information']['date']\n",
    "            var_kind = data['bibliographic_information']['kind']\n",
    "            var_doc_number =data['bibliographic_information']['doc-number']\n",
    "            var_country =data['bibliographic_information']['country']\n",
    "            var_company_name = data['assignees'][0]['addressbook/orgname']\n",
    "            filing_date_lst.append(var_filing_date)\n",
    "            kind_lst.append(var_kind)\n",
    "            doc_number_lst.append(var_doc_number)\n",
    "            country_lst.append(var_country)\n",
    "            company_name_lst.append(var_company_name) \n",
    "            pub_date_lst.append(pub_date)\n",
    "\n",
    "        except Exception as e:\n",
    "            e =1\n",
    "\n",
    "data_dict = {\"Filing_date\":filing_date_lst,\"Publish_date\":pub_date_lst,\"Classification\":kind_lst,\n",
    "\"Patent_Number\":doc_number_lst,\"Country\":country_lst, \"Company_Name\": company_name_lst}\n",
    "\n",
    "df = pd.DataFrame(data_dict)\n",
    "df.to_csv(\"data/raw_data/\"+str(Year)+\".csv\", index=False)\n"
   ]
  }
 ],
 "metadata": {
  "kernelspec": {
   "display_name": "rag-api",
   "language": "python",
   "name": "python3"
  },
  "language_info": {
   "codemirror_mode": {
    "name": "ipython",
    "version": 3
   },
   "file_extension": ".py",
   "mimetype": "text/x-python",
   "name": "python",
   "nbconvert_exporter": "python",
   "pygments_lexer": "ipython3",
   "version": "3.11.10"
  }
 },
 "nbformat": 4,
 "nbformat_minor": 2
}
