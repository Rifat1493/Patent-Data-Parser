{
 "cells": [
  {
   "cell_type": "markdown",
   "metadata": {},
   "source": [
    "### Patent Citation"
   ]
  },
  {
   "cell_type": "code",
   "execution_count": null,
   "metadata": {},
   "outputs": [],
   "source": [
    "import json\n",
    "import re\n",
    "import time\n",
    "import ast \n",
    "import requests\n",
    "import pandas as pd\n",
    "from tqdm import tqdm\n",
    "\n",
    "api_key = \"Your Api Key\""
   ]
  },
  {
   "cell_type": "code",
   "execution_count": null,
   "metadata": {},
   "outputs": [],
   "source": [
    "def get_number_of_citation(matching_method,company_name, year):\n",
    "    url = \"https://search.patentsview.org/api/v1/patent/\"\n",
    "    headers = {\n",
    "        \"accept\": \"application/json\",\n",
    "        \"X-Api-Key\": api_key\n",
    "    \n",
    "    }\n",
    "\n",
    "    params = {\n",
    "    \"f\": json.dumps([\"patent_num_times_cited_by_us_patents\",\"patent_id\"]),\n",
    "    \"o\": json.dumps({\"size\": 1000}),\n",
    "    \"q\": json.dumps({\n",
    "        \"_and\": [\n",
    "           # _text_phrase, _begins\n",
    "            {matching_method: {\"assignees.assignee_organization\": company_name}},\n",
    "            {\"_eq\": {\"patent_year\": year}},\n",
    "            {\"_eq\": {\"patent_type\": \"utility\"}},\n",
    "        ]\n",
    "    }),\n",
    "    \"s\": json.dumps([{\"patent_id\": \"asc\"}])\n",
    "}\n",
    "\n",
    "\n",
    "    response = requests.get(url, headers=headers, params=params)\n",
    "\n",
    "    return response.json()"
   ]
  },
  {
   "cell_type": "code",
   "execution_count": null,
   "metadata": {},
   "outputs": [],
   "source": [
    "def get_number_of_citation_v2(matching_method,company_name, year,p_id):\n",
    "    url = \"https://search.patentsview.org/api/v1/patent/\"\n",
    "    headers = {\n",
    "        \"accept\": \"application/json\",\n",
    "        \"X-Api-Key\": api_key\n",
    "    \n",
    "    }\n",
    "\n",
    "    params = {\n",
    "    \"f\": json.dumps([\"patent_num_times_cited_by_us_patents\",\"patent_id\"]),\n",
    "    \"o\": json.dumps({\"size\": 1000}),\n",
    "    \"q\": json.dumps({\n",
    "        \"_and\": [\n",
    "           # _text_phrase, _begins\n",
    "            {matching_method: {\"assignees.assignee_organization\": company_name}},\n",
    "            {\"_eq\": {\"patent_year\": year}},\n",
    "            {\"_eq\": {\"patent_type\": \"utility\"}},\n",
    "            {\"_gt\":{\"patent_id\":p_id}}\n",
    "        ]\n",
    "    }),\n",
    "    \"s\": json.dumps([{\"patent_id\": \"asc\"}])\n",
    "}\n",
    "    response = requests.get(url, headers=headers, params=params)\n",
    "\n",
    "    return response.json()"
   ]
  },
  {
   "cell_type": "code",
   "execution_count": 127,
   "metadata": {},
   "outputs": [
    {
     "data": {
      "text/plain": [
       "732"
      ]
     },
     "execution_count": 127,
     "metadata": {},
     "output_type": "execute_result"
    }
   ],
   "source": [
    "d = get_number_of_citation(\"_text_phrase\",\"dsm n.v.\",\"2000\")\n",
    "total_result = d[\"patents\"]\n",
    "total_count = 0\n",
    "for i in range (len(total_result)):\n",
    "    total_count+=total_result[i][\"patent_num_times_cited_by_us_patents\"]\n",
    "total_count"
   ]
  },
  {
   "cell_type": "code",
   "execution_count": 128,
   "metadata": {},
   "outputs": [],
   "source": [
    "# company_df = pd.read_excel(\"data/top_patent.xlsx\",sheet_name=\"Sheet2\")\n",
    "citation_df = pd.read_csv(\"rok_data/citation_data.csv\")\n",
    "company_list = citation_df[\"lookup_name\"].to_list()"
   ]
  },
  {
   "cell_type": "code",
   "execution_count": 149,
   "metadata": {},
   "outputs": [
    {
     "name": "stderr",
     "output_type": "stream",
     "text": [
      "100%|██████████| 434/434 [14:14<00:00,  1.97s/it]\n",
      "100%|██████████| 434/434 [14:45<00:00,  2.04s/it]\n",
      "100%|██████████| 434/434 [14:47<00:00,  2.04s/it]\n",
      "100%|██████████| 434/434 [14:44<00:00,  2.04s/it]\n",
      "100%|██████████| 434/434 [14:28<00:00,  2.00s/it]\n",
      "100%|██████████| 434/434 [14:26<00:00,  2.00s/it]\n"
     ]
    }
   ],
   "source": [
    "# company_list =[\"Advanced Micro Devices, Inc.\"]\n",
    "# citation_df=pd.DataFrame(company_list)\n",
    "for year in (range (2018,2024)):\n",
    "    citation_list=[]\n",
    "    for company_name in tqdm(company_list):\n",
    "        time.sleep(1)\n",
    "        result=get_number_of_citation(\"_text_phrase\",company_name,str(year))\n",
    "        hits = result[\"total_hits\"]\n",
    "        total_result = result[\"patents\"]\n",
    "\n",
    "        while hits>1000:\n",
    "            time.sleep(1)\n",
    "            try:\n",
    "                result=get_number_of_citation_v2(\"_text_phrase\",company_name,str(year),result[\"patents\"][-1][\"patent_id\"])\n",
    "            except Exception as e:\n",
    "                hits = hits-1000\n",
    "                continue\n",
    "            total_result+=result[\"patents\"]\n",
    "            hits = hits-1000\n",
    "        \n",
    "        total_count = 0\n",
    "        for i in range (len(total_result)):\n",
    "            total_count+=total_result[i][\"patent_num_times_cited_by_us_patents\"]\n",
    "\n",
    "        citation_list.append(total_count)\n",
    "    citation_df[str(year)]=citation_list\n"
   ]
  },
  {
   "cell_type": "code",
   "execution_count": 150,
   "metadata": {},
   "outputs": [],
   "source": [
    "citation_df.to_csv(\"rok_data/citation_data.csv\", index = False)"
   ]
  },
  {
   "cell_type": "markdown",
   "metadata": {},
   "source": [
    "### Match by Company Name"
   ]
  },
  {
   "cell_type": "code",
   "execution_count": 98,
   "metadata": {},
   "outputs": [],
   "source": [
    "def get_name(matching_method,company_name):   \n",
    "    url = \"https://search.patentsview.org/api/v1/assignee/\"\n",
    "    headers = {\n",
    "        \"accept\": \"application/json\",\n",
    "        \"X-Api-Key\": api_key\n",
    "\n",
    "    }\n",
    "\n",
    "    params = {\n",
    "    \"f\": json.dumps([\"assignee_id\",\"assignee_organization\"]),\n",
    "    \"o\": json.dumps({\"size\": 1000}),\n",
    "    \"q\": json.dumps({matching_method: {\"assignee_organization\": company_name}})\n",
    "    #\"s\": json.dumps([{\"assignee_id\": \"asc\"}])\n",
    "    }\n",
    "\n",
    "\n",
    "    response = requests.get(url, headers=headers, params=params)\n",
    "\n",
    "    return response.json()"
   ]
  },
  {
   "cell_type": "code",
   "execution_count": 100,
   "metadata": {},
   "outputs": [],
   "source": [
    "def clean_company_name(name):\n",
    "    # Remove commas and periods\n",
    "    name = re.sub(r'[,.]', '', name)\n",
    "    \n",
    "    # Remove company suffixes\n",
    "    name = re.sub(r'\\b(Corp|Co|Inc|Ltd)\\b', '', name, flags=re.IGNORECASE).strip()\n",
    "    \n",
    "    return name"
   ]
  },
  {
   "cell_type": "code",
   "execution_count": 101,
   "metadata": {},
   "outputs": [],
   "source": [
    "lookup_df = pd.DataFrame()\n",
    "lookup_df[\"company_name\"]=company_list\n",
    "lookup_df[\"lookup_name\"]=None"
   ]
  },
  {
   "cell_type": "code",
   "execution_count": 102,
   "metadata": {},
   "outputs": [],
   "source": [
    "suggestion_list = []\n",
    "for i in company_list: \n",
    "    result=get_name(\"_begins\",clean_company_name(i))\n",
    "    temp_list = []\n",
    "    if result[\"count\"]>0:\n",
    "        len_result = len(result[\"assignees\"])\n",
    "    else:\n",
    "        len_result =0\n",
    "    if len_result > 10:\n",
    "        len_result =10\n",
    "    for j in range(len_result):\n",
    "        temp_list.append(result[\"assignees\"][j][\"assignee_organization\"])\n",
    "    time.sleep(1)\n",
    "    suggestion_list.append(temp_list)\n",
    "\n",
    "lookup_df[\"suggested_list\"]=suggestion_list"
   ]
  },
  {
   "cell_type": "code",
   "execution_count": 104,
   "metadata": {},
   "outputs": [],
   "source": [
    "lookup_df.to_csv(\"dataset/lookup_table.csv\", index = False)"
   ]
  },
  {
   "cell_type": "code",
   "execution_count": 105,
   "metadata": {},
   "outputs": [],
   "source": [
    "company_df = pd.read_csv(\"rok_data/lookup_table.csv\")"
   ]
  },
  {
   "cell_type": "code",
   "execution_count": null,
   "metadata": {},
   "outputs": [],
   "source": [
    "company_df[\"company_name\"].fillna(method='ffill', inplace=True)"
   ]
  },
  {
   "cell_type": "code",
   "execution_count": 107,
   "metadata": {},
   "outputs": [],
   "source": [
    "company_df[\"suggested_list\"]=company_df[\"suggested_list\"].fillna(\"[]\")"
   ]
  },
  {
   "cell_type": "code",
   "execution_count": null,
   "metadata": {},
   "outputs": [],
   "source": [
    "\n",
    "company_df[\"suggested_list\"] = company_df[\"suggested_list\"].apply(ast.literal_eval)\n"
   ]
  },
  {
   "cell_type": "code",
   "execution_count": 109,
   "metadata": {},
   "outputs": [],
   "source": [
    "company_df[\"lookup_name\"] = company_df.apply(\n",
    "    lambda row: row[\"suggested_list\"][0] if pd.isna(row[\"lookup_name\"]) and len(row[\"suggested_list\"]) == 1 else row[\"lookup_name\"], \n",
    "    axis=1\n",
    ")"
   ]
  },
  {
   "cell_type": "code",
   "execution_count": 110,
   "metadata": {},
   "outputs": [],
   "source": [
    "company_df[\"lookup_name\"] = company_df[\"lookup_name\"].fillna(company_df[\"company_name\"])"
   ]
  },
  {
   "cell_type": "code",
   "execution_count": 111,
   "metadata": {},
   "outputs": [],
   "source": [
    "company_df.drop(columns=[\"suggested_list\"], inplace=True)"
   ]
  },
  {
   "cell_type": "code",
   "execution_count": 112,
   "metadata": {},
   "outputs": [],
   "source": [
    "company_df.to_csv(\"rok_data/lookup_table_v1.csv\", index = False)"
   ]
  }
 ],
 "metadata": {
  "kernelspec": {
   "display_name": "Kroger-dPOuDm8E",
   "language": "python",
   "name": "python3"
  },
  "language_info": {
   "codemirror_mode": {
    "name": "ipython",
    "version": 3
   },
   "file_extension": ".py",
   "mimetype": "text/x-python",
   "name": "python",
   "nbconvert_exporter": "python",
   "pygments_lexer": "ipython3",
   "version": "3.11.9"
  }
 },
 "nbformat": 4,
 "nbformat_minor": 2
}
